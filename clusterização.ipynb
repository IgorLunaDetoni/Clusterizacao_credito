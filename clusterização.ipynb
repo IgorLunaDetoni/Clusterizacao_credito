{
 "cells": [
  {
   "cell_type": "code",
   "execution_count": 3,
   "metadata": {},
   "outputs": [],
   "source": [
    "import pandas as pd\n",
    "import numpy as np\n",
    "from sklearn.preprocessing import RobustScaler\n",
    "from sklearn.decomposition import PCA\n",
    "from sklearn.preprocessing import PowerTransformer\n",
    "import sklearn as sk"
   ]
  },
  {
   "attachments": {},
   "cell_type": "markdown",
   "metadata": {},
   "source": [
    "df = df.iloc[:,:-4].copy()\n",
    "pca = PCA(n_components=0.99) \n",
    "principal_comp = pca.fit_transform(df)\n",
    "principal_comp.shape\n",
    "principal_comp = pd.DataFrame(principal_comp) \n",
    "df = principal_comp.copy()"
   ]
  },
  {
   "attachments": {},
   "cell_type": "markdown",
   "metadata": {},
   "source": [
    "Como vou saber os números de clusters? utilizando PCA?"
   ]
  },
  {
   "cell_type": "code",
   "execution_count": null,
   "metadata": {},
   "outputs": [],
   "source": [
    "n_clusters=15\n",
    "distortions=[]\n",
    "for i in range(1,n_clusters):\n",
    "    kmean= KMeans(i)\n",
    "    kmean.fit(df )\n",
    "    distortions.append(sum(np.min(cdist(df , kmean.cluster_centers_,\n",
    "                               'euclidean'), axis=1)) / df.shape[0]) \n",
    "    \n",
    "plt.plot(distortions, 'bx-')"
   ]
  },
  {
   "attachments": {},
   "cell_type": "markdown",
   "metadata": {},
   "source": [
    "Fazer um stepwise depois de verificar quantas variáveis vamos utilizar\n"
   ]
  },
  {
   "attachments": {},
   "cell_type": "markdown",
   "metadata": {},
   "source": [
    "Usar knn e kneed pra bater em quantos vamos utilizar\n"
   ]
  },
  {
   "cell_type": "code",
   "execution_count": null,
   "metadata": {},
   "outputs": [],
   "source": []
  },
  {
   "attachments": {},
   "cell_type": "markdown",
   "metadata": {},
   "source": [
    "### Fazer as cluterizações de \n",
    "K-Means \\\n",
    "Spectral clustering \\\n",
    "Agglomerative clustering \\\n",
    "DBSCAN \\\n",
    "Gaussian mixtures \\\n",
    "BIRCH \\\n",
    "Bisecting K-Means"
   ]
  }
 ],
 "metadata": {
  "kernelspec": {
   "display_name": "base",
   "language": "python",
   "name": "python3"
  },
  "language_info": {
   "codemirror_mode": {
    "name": "ipython",
    "version": 3
   },
   "file_extension": ".py",
   "mimetype": "text/x-python",
   "name": "python",
   "nbconvert_exporter": "python",
   "pygments_lexer": "ipython3",
   "version": "3.9.15"
  },
  "orig_nbformat": 4,
  "vscode": {
   "interpreter": {
    "hash": "ed9676846c878c224a8464e5f9393028f8964372026adbc040b4dd81c7461aff"
   }
  }
 },
 "nbformat": 4,
 "nbformat_minor": 2
}
